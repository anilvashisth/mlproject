{
 "cells": [
  {
   "cell_type": "code",
   "execution_count": 1,
   "id": "22f271c3",
   "metadata": {},
   "outputs": [
    {
     "data": {
      "text/plain": [
       "'C:\\\\Users\\\\anilv'"
      ]
     },
     "execution_count": 1,
     "metadata": {},
     "output_type": "execute_result"
    }
   ],
   "source": [
    "pwd"
   ]
  },
  {
   "cell_type": "markdown",
   "id": "aeb317e2",
   "metadata": {},
   "source": [
    "# Class 1 (10 April 2025)"
   ]
  },
  {
   "cell_type": "raw",
   "id": "7b86adb1",
   "metadata": {},
   "source": [
    "Question 1 : Python  class and method\n",
    "    Ans: this is python language used for programming"
   ]
  },
  {
   "cell_type": "raw",
   "id": "b791363c",
   "metadata": {},
   "source": [
    "Que 2: OOPS Concept in Python\n",
    "    Ans:Abstruction\n",
    "        Encapsulation\n",
    "        Inharitance\n",
    "        polymorphism"
   ]
  },
  {
   "cell_type": "code",
   "execution_count": null,
   "id": "7a96dfd0",
   "metadata": {},
   "outputs": [],
   "source": []
  }
 ],
 "metadata": {
  "kernelspec": {
   "display_name": "Python 3 (ipykernel)",
   "language": "python",
   "name": "python3"
  },
  "language_info": {
   "codemirror_mode": {
    "name": "ipython",
    "version": 3
   },
   "file_extension": ".py",
   "mimetype": "text/x-python",
   "name": "python",
   "nbconvert_exporter": "python",
   "pygments_lexer": "ipython3",
   "version": "3.11.5"
  }
 },
 "nbformat": 4,
 "nbformat_minor": 5
}
