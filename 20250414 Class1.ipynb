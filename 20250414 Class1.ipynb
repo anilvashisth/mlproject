{
 "cells": [
  {
   "cell_type": "code",
   "execution_count": 2,
   "id": "8368e67d",
   "metadata": {},
   "outputs": [
    {
     "data": {
      "text/plain": [
       "'My name is Anil Kumar'"
      ]
     },
     "execution_count": 2,
     "metadata": {},
     "output_type": "execute_result"
    }
   ],
   "source": [
    "a=\"My name is Anil Kumar\"\n",
    "a"
   ]
  },
  {
   "cell_type": "code",
   "execution_count": 3,
   "id": "415b65c7",
   "metadata": {},
   "outputs": [
    {
     "data": {
      "text/plain": [
       "'y name is A'"
      ]
     },
     "execution_count": 3,
     "metadata": {},
     "output_type": "execute_result"
    }
   ],
   "source": [
    "a[1:12]"
   ]
  },
  {
   "cell_type": "code",
   "execution_count": 5,
   "id": "82a69023",
   "metadata": {},
   "outputs": [
    {
     "data": {
      "text/plain": [
       "'My name is A'"
      ]
     },
     "execution_count": 5,
     "metadata": {},
     "output_type": "execute_result"
    }
   ],
   "source": [
    "a[0:12]"
   ]
  },
  {
   "cell_type": "code",
   "execution_count": 6,
   "id": "773aa1cd",
   "metadata": {},
   "outputs": [
    {
     "data": {
      "text/plain": [
       "'My name is Anil'"
      ]
     },
     "execution_count": 6,
     "metadata": {},
     "output_type": "execute_result"
    }
   ],
   "source": [
    "a[0:15]"
   ]
  },
  {
   "cell_type": "code",
   "execution_count": 7,
   "id": "16f8380c",
   "metadata": {},
   "outputs": [
    {
     "data": {
      "text/plain": [
       "'What is your name'"
      ]
     },
     "execution_count": 7,
     "metadata": {},
     "output_type": "execute_result"
    }
   ],
   "source": [
    "b = \"What is your name\"\n",
    "b"
   ]
  },
  {
   "cell_type": "code",
   "execution_count": 9,
   "id": "31ffc082",
   "metadata": {},
   "outputs": [
    {
     "data": {
      "text/plain": [
       "'What is your na'"
      ]
     },
     "execution_count": 9,
     "metadata": {},
     "output_type": "execute_result"
    }
   ],
   "source": [
    "b[0:15]"
   ]
  },
  {
   "cell_type": "code",
   "execution_count": 15,
   "id": "53b728c9",
   "metadata": {},
   "outputs": [
    {
     "data": {
      "text/plain": [
       "'What i'"
      ]
     },
     "execution_count": 15,
     "metadata": {},
     "output_type": "execute_result"
    }
   ],
   "source": [
    "b[0:-11]"
   ]
  },
  {
   "cell_type": "code",
   "execution_count": 16,
   "id": "612c7662",
   "metadata": {},
   "outputs": [
    {
     "data": {
      "text/plain": [
       "'Wa syu a'"
      ]
     },
     "execution_count": 16,
     "metadata": {},
     "output_type": "execute_result"
    }
   ],
   "source": [
    "b[0:15:2]"
   ]
  },
  {
   "cell_type": "code",
   "execution_count": 17,
   "id": "e6922b15",
   "metadata": {},
   "outputs": [
    {
     "data": {
      "text/plain": [
       "'What is your name'"
      ]
     },
     "execution_count": 17,
     "metadata": {},
     "output_type": "execute_result"
    }
   ],
   "source": [
    "b[0:200]"
   ]
  },
  {
   "cell_type": "code",
   "execution_count": null,
   "id": "835f1531",
   "metadata": {},
   "outputs": [],
   "source": []
  }
 ],
 "metadata": {
  "kernelspec": {
   "display_name": "Python 3 (ipykernel)",
   "language": "python",
   "name": "python3"
  },
  "language_info": {
   "codemirror_mode": {
    "name": "ipython",
    "version": 3
   },
   "file_extension": ".py",
   "mimetype": "text/x-python",
   "name": "python",
   "nbconvert_exporter": "python",
   "pygments_lexer": "ipython3",
   "version": "3.11.5"
  }
 },
 "nbformat": 4,
 "nbformat_minor": 5
}
